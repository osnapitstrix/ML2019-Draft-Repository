{
  "nbformat": 4,
  "nbformat_minor": 0,
  "metadata": {
    "colab": {
      "name": "A2_Updated.ipynb",
      "version": "0.3.2",
      "provenance": [],
      "collapsed_sections": [],
      "include_colab_link": true
    },
    "kernelspec": {
      "name": "python3",
      "display_name": "Python 3"
    }
  },
  "cells": [
    {
      "cell_type": "markdown",
      "metadata": {
        "id": "view-in-github",
        "colab_type": "text"
      },
      "source": [
        "<a href=\"https://colab.research.google.com/github/osnapitstrix/UTSML2019_13205669/blob/master/A2_Draft%2016%20September.ipynb\" target=\"_parent\"><img src=\"https://colab.research.google.com/assets/colab-badge.svg\" alt=\"Open In Colab\"/></a>"
      ]
    },
    {
      "cell_type": "markdown",
      "metadata": {
        "id": "WE9wMLMt7Wkf",
        "colab_type": "text"
      },
      "source": [
        "# **2. Data Exploration and Pre-Processing**"
      ]
    },
    {
      "cell_type": "code",
      "metadata": {
        "id": "RmvtKbeTTUK_",
        "colab_type": "code",
        "colab": {}
      },
      "source": [
        "#basci libraries that need to be imported\n",
        "import pandas as pd \n",
        "import numpy as np\n",
        "import copy\n",
        "\n",
        "#required libraries for classification techniques\n",
        "from pandas.plotting import scatter_matrix \n",
        "import matplotlib.pyplot as plt \n",
        "from sklearn import model_selection \n",
        "from sklearn.metrics import classification_report, confusion_matrix, accuracy_score \n",
        "\n",
        "#import different types of classifiers techniques\n",
        "from sklearn.linear_model import LogisticRegression \n",
        "from sklearn.tree import DecisionTreeClassifier \n",
        "from sklearn.neighbors import KNeighborsClassifier"
      ],
      "execution_count": 0,
      "outputs": []
    },
    {
      "cell_type": "code",
      "metadata": {
        "id": "zj3jRi0hTktv",
        "colab_type": "code",
        "colab": {}
      },
      "source": [
        "from google.colab import auth\n",
        "auth.authenticate_user()\n",
        "\n",
        "!pip install -U -q Pydrive\n",
        "from pydrive.drive import GoogleDrive\n",
        "from pydrive.auth import GoogleAuth\n",
        "from oauth2client.client import GoogleCredentials\n",
        "\n",
        "auth.authenticate_user()\n",
        "gauth = GoogleAuth()\n",
        "gauth.credentials = GoogleCredentials.get_application_default()\n",
        "drive = GoogleDrive(gauth)\n",
        "\n",
        "data = drive.CreateFile({'id':'1l-xWB5poscP3cglKDZtyX8dJQC79Z3Fo'})\n",
        "data.GetContentFile('My Uber Drives - 2016.csv')"
      ],
      "execution_count": 0,
      "outputs": []
    },
    {
      "cell_type": "code",
      "metadata": {
        "id": "U-1bSZfWTuFX",
        "colab_type": "code",
        "colab": {}
      },
      "source": [
        "data = pd.read_csv('My Uber Drives - 2016.csv')"
      ],
      "execution_count": 0,
      "outputs": []
    },
    {
      "cell_type": "code",
      "metadata": {
        "id": "QNgogGhYTxMH",
        "colab_type": "code",
        "outputId": "f91eb887-3558-417a-ba6e-85ba4a06c9fc",
        "colab": {
          "base_uri": "https://localhost:8080/",
          "height": 221
        }
      },
      "source": [
        "data.info()"
      ],
      "execution_count": 0,
      "outputs": [
        {
          "output_type": "stream",
          "text": [
            "<class 'pandas.core.frame.DataFrame'>\n",
            "RangeIndex: 1156 entries, 0 to 1155\n",
            "Data columns (total 7 columns):\n",
            "START_DATE*    1156 non-null object\n",
            "END_DATE*      1155 non-null object\n",
            "CATEGORY*      1155 non-null object\n",
            "START*         1155 non-null object\n",
            "STOP*          1155 non-null object\n",
            "MILES*         1156 non-null float64\n",
            "PURPOSE*       653 non-null object\n",
            "dtypes: float64(1), object(6)\n",
            "memory usage: 63.3+ KB\n"
          ],
          "name": "stdout"
        }
      ]
    },
    {
      "cell_type": "code",
      "metadata": {
        "id": "10_BZI2c7p9m",
        "colab_type": "code",
        "outputId": "d084195a-af4e-4be8-894e-fc4322469168",
        "colab": {
          "base_uri": "https://localhost:8080/",
          "height": 34
        }
      },
      "source": [
        "#printing the total number of rows & columns\n",
        "print(data.shape)"
      ],
      "execution_count": 0,
      "outputs": [
        {
          "output_type": "stream",
          "text": [
            "(1156, 7)\n"
          ],
          "name": "stdout"
        }
      ]
    },
    {
      "cell_type": "code",
      "metadata": {
        "id": "CJ0Zr3ed73t0",
        "colab_type": "code",
        "outputId": "fb97b332-c556-41de-a6dd-8cf5541d5085",
        "colab": {
          "base_uri": "https://localhost:8080/",
          "height": 204
        }
      },
      "source": [
        "#printing the dataset header\n",
        "#printing the first 5 rows of the dataset \n",
        "data.head()"
      ],
      "execution_count": 0,
      "outputs": [
        {
          "output_type": "execute_result",
          "data": {
            "text/html": [
              "<div>\n",
              "<style scoped>\n",
              "    .dataframe tbody tr th:only-of-type {\n",
              "        vertical-align: middle;\n",
              "    }\n",
              "\n",
              "    .dataframe tbody tr th {\n",
              "        vertical-align: top;\n",
              "    }\n",
              "\n",
              "    .dataframe thead th {\n",
              "        text-align: right;\n",
              "    }\n",
              "</style>\n",
              "<table border=\"1\" class=\"dataframe\">\n",
              "  <thead>\n",
              "    <tr style=\"text-align: right;\">\n",
              "      <th></th>\n",
              "      <th>START_DATE*</th>\n",
              "      <th>END_DATE*</th>\n",
              "      <th>CATEGORY*</th>\n",
              "      <th>START*</th>\n",
              "      <th>STOP*</th>\n",
              "      <th>MILES*</th>\n",
              "      <th>PURPOSE*</th>\n",
              "    </tr>\n",
              "  </thead>\n",
              "  <tbody>\n",
              "    <tr>\n",
              "      <th>0</th>\n",
              "      <td>1/1/16 21:11</td>\n",
              "      <td>1/1/16 21:17</td>\n",
              "      <td>Business</td>\n",
              "      <td>Fort Pierce</td>\n",
              "      <td>Fort Pierce</td>\n",
              "      <td>5.1</td>\n",
              "      <td>Meal/Entertain</td>\n",
              "    </tr>\n",
              "    <tr>\n",
              "      <th>1</th>\n",
              "      <td>1/2/16 01:25</td>\n",
              "      <td>1/2/16 01:37</td>\n",
              "      <td>Business</td>\n",
              "      <td>Fort Pierce</td>\n",
              "      <td>Fort Pierce</td>\n",
              "      <td>5.0</td>\n",
              "      <td>NaN</td>\n",
              "    </tr>\n",
              "    <tr>\n",
              "      <th>2</th>\n",
              "      <td>1/2/16 20:25</td>\n",
              "      <td>1/2/16 20:38</td>\n",
              "      <td>Business</td>\n",
              "      <td>Fort Pierce</td>\n",
              "      <td>Fort Pierce</td>\n",
              "      <td>4.8</td>\n",
              "      <td>Errand/Supplies</td>\n",
              "    </tr>\n",
              "    <tr>\n",
              "      <th>3</th>\n",
              "      <td>1/5/16 17:31</td>\n",
              "      <td>1/5/16 17:45</td>\n",
              "      <td>Business</td>\n",
              "      <td>Fort Pierce</td>\n",
              "      <td>Fort Pierce</td>\n",
              "      <td>4.7</td>\n",
              "      <td>Meeting</td>\n",
              "    </tr>\n",
              "    <tr>\n",
              "      <th>4</th>\n",
              "      <td>1/6/16 14:42</td>\n",
              "      <td>1/6/16 15:49</td>\n",
              "      <td>Business</td>\n",
              "      <td>Fort Pierce</td>\n",
              "      <td>West Palm Beach</td>\n",
              "      <td>63.7</td>\n",
              "      <td>Customer Visit</td>\n",
              "    </tr>\n",
              "  </tbody>\n",
              "</table>\n",
              "</div>"
            ],
            "text/plain": [
              "    START_DATE*     END_DATE*  ... MILES*         PURPOSE*\n",
              "0  1/1/16 21:11  1/1/16 21:17  ...    5.1   Meal/Entertain\n",
              "1  1/2/16 01:25  1/2/16 01:37  ...    5.0              NaN\n",
              "2  1/2/16 20:25  1/2/16 20:38  ...    4.8  Errand/Supplies\n",
              "3  1/5/16 17:31  1/5/16 17:45  ...    4.7          Meeting\n",
              "4  1/6/16 14:42  1/6/16 15:49  ...   63.7   Customer Visit\n",
              "\n",
              "[5 rows x 7 columns]"
            ]
          },
          "metadata": {
            "tags": []
          },
          "execution_count": 35
        }
      ]
    },
    {
      "cell_type": "code",
      "metadata": {
        "id": "RTHGYF827_rv",
        "colab_type": "code",
        "outputId": "0052d6aa-8117-4ef6-f4be-bb5d53d9dd0d",
        "colab": {
          "base_uri": "https://localhost:8080/",
          "height": 204
        }
      },
      "source": [
        "#printing the dataset header\n",
        "#printing the last 5 rows of the dataset \n",
        "data.tail()"
      ],
      "execution_count": 0,
      "outputs": [
        {
          "output_type": "execute_result",
          "data": {
            "text/html": [
              "<div>\n",
              "<style scoped>\n",
              "    .dataframe tbody tr th:only-of-type {\n",
              "        vertical-align: middle;\n",
              "    }\n",
              "\n",
              "    .dataframe tbody tr th {\n",
              "        vertical-align: top;\n",
              "    }\n",
              "\n",
              "    .dataframe thead th {\n",
              "        text-align: right;\n",
              "    }\n",
              "</style>\n",
              "<table border=\"1\" class=\"dataframe\">\n",
              "  <thead>\n",
              "    <tr style=\"text-align: right;\">\n",
              "      <th></th>\n",
              "      <th>START_DATE*</th>\n",
              "      <th>END_DATE*</th>\n",
              "      <th>CATEGORY*</th>\n",
              "      <th>START*</th>\n",
              "      <th>STOP*</th>\n",
              "      <th>MILES*</th>\n",
              "      <th>PURPOSE*</th>\n",
              "    </tr>\n",
              "  </thead>\n",
              "  <tbody>\n",
              "    <tr>\n",
              "      <th>1151</th>\n",
              "      <td>12/31/2016 13:24</td>\n",
              "      <td>12/31/2016 13:42</td>\n",
              "      <td>Business</td>\n",
              "      <td>Kar?chi</td>\n",
              "      <td>Unknown Location</td>\n",
              "      <td>3.9</td>\n",
              "      <td>Temporary Site</td>\n",
              "    </tr>\n",
              "    <tr>\n",
              "      <th>1152</th>\n",
              "      <td>12/31/2016 15:03</td>\n",
              "      <td>12/31/2016 15:38</td>\n",
              "      <td>Business</td>\n",
              "      <td>Unknown Location</td>\n",
              "      <td>Unknown Location</td>\n",
              "      <td>16.2</td>\n",
              "      <td>Meeting</td>\n",
              "    </tr>\n",
              "    <tr>\n",
              "      <th>1153</th>\n",
              "      <td>12/31/2016 21:32</td>\n",
              "      <td>12/31/2016 21:50</td>\n",
              "      <td>Business</td>\n",
              "      <td>Katunayake</td>\n",
              "      <td>Gampaha</td>\n",
              "      <td>6.4</td>\n",
              "      <td>Temporary Site</td>\n",
              "    </tr>\n",
              "    <tr>\n",
              "      <th>1154</th>\n",
              "      <td>12/31/2016 22:08</td>\n",
              "      <td>12/31/2016 23:51</td>\n",
              "      <td>Business</td>\n",
              "      <td>Gampaha</td>\n",
              "      <td>Ilukwatta</td>\n",
              "      <td>48.2</td>\n",
              "      <td>Temporary Site</td>\n",
              "    </tr>\n",
              "    <tr>\n",
              "      <th>1155</th>\n",
              "      <td>Totals</td>\n",
              "      <td>NaN</td>\n",
              "      <td>NaN</td>\n",
              "      <td>NaN</td>\n",
              "      <td>NaN</td>\n",
              "      <td>12204.7</td>\n",
              "      <td>NaN</td>\n",
              "    </tr>\n",
              "  </tbody>\n",
              "</table>\n",
              "</div>"
            ],
            "text/plain": [
              "           START_DATE*         END_DATE*  ...   MILES*        PURPOSE*\n",
              "1151  12/31/2016 13:24  12/31/2016 13:42  ...      3.9  Temporary Site\n",
              "1152  12/31/2016 15:03  12/31/2016 15:38  ...     16.2         Meeting\n",
              "1153  12/31/2016 21:32  12/31/2016 21:50  ...      6.4  Temporary Site\n",
              "1154  12/31/2016 22:08  12/31/2016 23:51  ...     48.2  Temporary Site\n",
              "1155            Totals               NaN  ...  12204.7             NaN\n",
              "\n",
              "[5 rows x 7 columns]"
            ]
          },
          "metadata": {
            "tags": []
          },
          "execution_count": 36
        }
      ]
    },
    {
      "cell_type": "markdown",
      "metadata": {
        "id": "sZB_WL5t8BcZ",
        "colab_type": "text"
      },
      "source": [
        "The dataset provided contains seven columns in which six columns are non-null objects and one column is non-null float. The six columns are classified as categorical values and do not contain any numerical values."
      ]
    },
    {
      "cell_type": "markdown",
      "metadata": {
        "id": "AO82dWxf8brI",
        "colab_type": "text"
      },
      "source": [
        "1. Miles: Miles is the distance from the start location(departure) and the stop location (arrival)"
      ]
    },
    {
      "cell_type": "code",
      "metadata": {
        "id": "M_MsovmRTySd",
        "colab_type": "code",
        "outputId": "bcf2243b-c719-4d31-83e4-7dd55c6f1a83",
        "colab": {
          "base_uri": "https://localhost:8080/",
          "height": 297
        }
      },
      "source": [
        "#only MILES* works since it's a float64 data type\n",
        "data.describe()"
      ],
      "execution_count": 0,
      "outputs": [
        {
          "output_type": "execute_result",
          "data": {
            "text/html": [
              "<div>\n",
              "<style scoped>\n",
              "    .dataframe tbody tr th:only-of-type {\n",
              "        vertical-align: middle;\n",
              "    }\n",
              "\n",
              "    .dataframe tbody tr th {\n",
              "        vertical-align: top;\n",
              "    }\n",
              "\n",
              "    .dataframe thead th {\n",
              "        text-align: right;\n",
              "    }\n",
              "</style>\n",
              "<table border=\"1\" class=\"dataframe\">\n",
              "  <thead>\n",
              "    <tr style=\"text-align: right;\">\n",
              "      <th></th>\n",
              "      <th>MILES*</th>\n",
              "    </tr>\n",
              "  </thead>\n",
              "  <tbody>\n",
              "    <tr>\n",
              "      <th>count</th>\n",
              "      <td>1156.000000</td>\n",
              "    </tr>\n",
              "    <tr>\n",
              "      <th>mean</th>\n",
              "      <td>21.115398</td>\n",
              "    </tr>\n",
              "    <tr>\n",
              "      <th>std</th>\n",
              "      <td>359.299007</td>\n",
              "    </tr>\n",
              "    <tr>\n",
              "      <th>min</th>\n",
              "      <td>0.500000</td>\n",
              "    </tr>\n",
              "    <tr>\n",
              "      <th>25%</th>\n",
              "      <td>2.900000</td>\n",
              "    </tr>\n",
              "    <tr>\n",
              "      <th>50%</th>\n",
              "      <td>6.000000</td>\n",
              "    </tr>\n",
              "    <tr>\n",
              "      <th>75%</th>\n",
              "      <td>10.400000</td>\n",
              "    </tr>\n",
              "    <tr>\n",
              "      <th>max</th>\n",
              "      <td>12204.700000</td>\n",
              "    </tr>\n",
              "  </tbody>\n",
              "</table>\n",
              "</div>"
            ],
            "text/plain": [
              "             MILES*\n",
              "count   1156.000000\n",
              "mean      21.115398\n",
              "std      359.299007\n",
              "min        0.500000\n",
              "25%        2.900000\n",
              "50%        6.000000\n",
              "75%       10.400000\n",
              "max    12204.700000"
            ]
          },
          "metadata": {
            "tags": []
          },
          "execution_count": 6
        }
      ]
    },
    {
      "cell_type": "code",
      "metadata": {
        "id": "5P5KXLglUOSC",
        "colab_type": "code",
        "outputId": "d0261927-bda1-460e-92b7-7e48f826e705",
        "colab": {
          "base_uri": "https://localhost:8080/",
          "height": 204
        }
      },
      "source": [
        "#printing the dataset header\n",
        "#printing the last 5 rows of the dataset \n",
        "data.tail()"
      ],
      "execution_count": 0,
      "outputs": [
        {
          "output_type": "execute_result",
          "data": {
            "text/html": [
              "<div>\n",
              "<style scoped>\n",
              "    .dataframe tbody tr th:only-of-type {\n",
              "        vertical-align: middle;\n",
              "    }\n",
              "\n",
              "    .dataframe tbody tr th {\n",
              "        vertical-align: top;\n",
              "    }\n",
              "\n",
              "    .dataframe thead th {\n",
              "        text-align: right;\n",
              "    }\n",
              "</style>\n",
              "<table border=\"1\" class=\"dataframe\">\n",
              "  <thead>\n",
              "    <tr style=\"text-align: right;\">\n",
              "      <th></th>\n",
              "      <th>START_DATE*</th>\n",
              "      <th>END_DATE*</th>\n",
              "      <th>CATEGORY*</th>\n",
              "      <th>START*</th>\n",
              "      <th>STOP*</th>\n",
              "      <th>MILES*</th>\n",
              "      <th>PURPOSE*</th>\n",
              "    </tr>\n",
              "  </thead>\n",
              "  <tbody>\n",
              "    <tr>\n",
              "      <th>1151</th>\n",
              "      <td>12/31/2016 13:24</td>\n",
              "      <td>12/31/2016 13:42</td>\n",
              "      <td>Business</td>\n",
              "      <td>Kar?chi</td>\n",
              "      <td>Unknown Location</td>\n",
              "      <td>3.9</td>\n",
              "      <td>Temporary Site</td>\n",
              "    </tr>\n",
              "    <tr>\n",
              "      <th>1152</th>\n",
              "      <td>12/31/2016 15:03</td>\n",
              "      <td>12/31/2016 15:38</td>\n",
              "      <td>Business</td>\n",
              "      <td>Unknown Location</td>\n",
              "      <td>Unknown Location</td>\n",
              "      <td>16.2</td>\n",
              "      <td>Meeting</td>\n",
              "    </tr>\n",
              "    <tr>\n",
              "      <th>1153</th>\n",
              "      <td>12/31/2016 21:32</td>\n",
              "      <td>12/31/2016 21:50</td>\n",
              "      <td>Business</td>\n",
              "      <td>Katunayake</td>\n",
              "      <td>Gampaha</td>\n",
              "      <td>6.4</td>\n",
              "      <td>Temporary Site</td>\n",
              "    </tr>\n",
              "    <tr>\n",
              "      <th>1154</th>\n",
              "      <td>12/31/2016 22:08</td>\n",
              "      <td>12/31/2016 23:51</td>\n",
              "      <td>Business</td>\n",
              "      <td>Gampaha</td>\n",
              "      <td>Ilukwatta</td>\n",
              "      <td>48.2</td>\n",
              "      <td>Temporary Site</td>\n",
              "    </tr>\n",
              "    <tr>\n",
              "      <th>1155</th>\n",
              "      <td>Totals</td>\n",
              "      <td>NaN</td>\n",
              "      <td>NaN</td>\n",
              "      <td>NaN</td>\n",
              "      <td>NaN</td>\n",
              "      <td>12204.7</td>\n",
              "      <td>NaN</td>\n",
              "    </tr>\n",
              "  </tbody>\n",
              "</table>\n",
              "</div>"
            ],
            "text/plain": [
              "           START_DATE*         END_DATE*  ...   MILES*        PURPOSE*\n",
              "1151  12/31/2016 13:24  12/31/2016 13:42  ...      3.9  Temporary Site\n",
              "1152  12/31/2016 15:03  12/31/2016 15:38  ...     16.2         Meeting\n",
              "1153  12/31/2016 21:32  12/31/2016 21:50  ...      6.4  Temporary Site\n",
              "1154  12/31/2016 22:08  12/31/2016 23:51  ...     48.2  Temporary Site\n",
              "1155            Totals               NaN  ...  12204.7             NaN\n",
              "\n",
              "[5 rows x 7 columns]"
            ]
          },
          "metadata": {
            "tags": []
          },
          "execution_count": 9
        }
      ]
    },
    {
      "cell_type": "code",
      "metadata": {
        "id": "gkbVmrb6VcOY",
        "colab_type": "code",
        "outputId": "b202d521-cc9d-4c28-c009-80728edf7ebd",
        "colab": {
          "base_uri": "https://localhost:8080/",
          "height": 1000
        }
      },
      "source": [
        "print((data.groupby('START*')).size())\n",
        "\n",
        "# to count how many different of starting location\n",
        "#print(data['START*'].value_counts('').count())"
      ],
      "execution_count": 0,
      "outputs": [
        {
          "output_type": "stream",
          "text": [
            "START*\n",
            "Agnew                           4\n",
            "Almond                          1\n",
            "Apex                           17\n",
            "Arabi                           1\n",
            "Arlington                       1\n",
            "Arlington Park at Amberly       1\n",
            "Asheville                       2\n",
            "Austin                          1\n",
            "Banner Elk                      8\n",
            "Bellevue                        1\n",
            "Berkeley                       16\n",
            "Boone                           2\n",
            "Briar Meadow                    1\n",
            "Bryson City                     5\n",
            "Burtrose                        1\n",
            "CBD                             4\n",
            "Capitol One                     2\n",
            "Cary                          201\n",
            "Central                         8\n",
            "Chalmette                       1\n",
            "Chapel Hill                     2\n",
            "Chessington                     2\n",
            "College Avenue                  1\n",
            "Colombo                         8\n",
            "Columbia Heights                1\n",
            "Congress Ave District           1\n",
            "Connecticut Avenue              1\n",
            "Convention Center District      1\n",
            "Cory                            1\n",
            "Couples Glen                    2\n",
            "                             ... \n",
            "Southside                       4\n",
            "St Thomas                       1\n",
            "Stonewater                      1\n",
            "Storyville                      2\n",
            "Sugar Land                      1\n",
            "Summerwinds                     1\n",
            "Sunnyside                       1\n",
            "Sunnyvale                       1\n",
            "Tanglewood                      4\n",
            "Tenderloin                      1\n",
            "The Drag                        7\n",
            "Topton                          2\n",
            "Townes at Everett Crossing      1\n",
            "Tribeca                         1\n",
            "University District             1\n",
            "Unknown Location              148\n",
            "Wake Co.                        1\n",
            "Wake Forest                     1\n",
            "Washington                      1\n",
            "Washington Avenue               1\n",
            "Waverly Place                   4\n",
            "Wayne Ridge                     4\n",
            "West Berkeley                   5\n",
            "West End                        1\n",
            "West Palm Beach                 2\n",
            "West University                 2\n",
            "Weston                          2\n",
            "Westpark Place                 17\n",
            "Whitebridge                    68\n",
            "Winston Salem                   1\n",
            "Length: 177, dtype: int64\n"
          ],
          "name": "stdout"
        }
      ]
    },
    {
      "cell_type": "code",
      "metadata": {
        "id": "XgHcM0qOVb1s",
        "colab_type": "code",
        "outputId": "010c14d4-956a-4366-9b57-e89d26ad408f",
        "colab": {
          "base_uri": "https://localhost:8080/",
          "height": 1000
        }
      },
      "source": [
        "print((data.groupby('STOP*')).size())\n",
        "\n",
        "# to count how many different of stopping location\n",
        "#print(data['STOP*'].value_counts('').count())"
      ],
      "execution_count": 0,
      "outputs": [
        {
          "output_type": "stream",
          "text": [
            "STOP*\n",
            "Agnew                          4\n",
            "Alief                          1\n",
            "Almond                         1\n",
            "Apex                          17\n",
            "Arabi                          1\n",
            "Arlington                      1\n",
            "Arlington Park at Amberly      1\n",
            "Arts District                  1\n",
            "Asheville                      2\n",
            "Banner Elk                     8\n",
            "Bay Farm Island                1\n",
            "Bellevue                       1\n",
            "Berkeley                      16\n",
            "Boone                          2\n",
            "Briar Meadow                   1\n",
            "Bryson City                    5\n",
            "Burtrose                       2\n",
            "Bywater                        1\n",
            "CBD                            2\n",
            "Capitol One                    2\n",
            "Cary                         203\n",
            "Cedar Hill                     1\n",
            "Central                        9\n",
            "Chalmette                      1\n",
            "Chapel Hill                    1\n",
            "Chessington                    3\n",
            "College Avenue                 1\n",
            "Colombo                        8\n",
            "Columbia Heights               1\n",
            "Congress Ave District          3\n",
            "                            ... \n",
            "Storyville                     2\n",
            "Sugar Land                     1\n",
            "Summerwinds                    1\n",
            "Sunnyside                      1\n",
            "Sunnyvale                      1\n",
            "Tanglewood                     4\n",
            "Tenderloin                     1\n",
            "The Drag                       7\n",
            "Topton                         2\n",
            "Tribeca                        1\n",
            "Tudor City                     1\n",
            "Umstead                        1\n",
            "University District            1\n",
            "Unknown Location             149\n",
            "Vista East                     1\n",
            "Wake Co.                       1\n",
            "Wake Forest                    1\n",
            "Walnut Terrace                 1\n",
            "Washington                     1\n",
            "Washington Avenue              1\n",
            "Waverly Place                  5\n",
            "Wayne Ridge                    4\n",
            "West Berkeley                  3\n",
            "West Palm Beach                2\n",
            "West University                2\n",
            "Weston                         5\n",
            "Westpark Place                16\n",
            "Whitebridge                   65\n",
            "Williamsburg Manor             1\n",
            "Winston Salem                  1\n",
            "Length: 188, dtype: int64\n"
          ],
          "name": "stdout"
        }
      ]
    },
    {
      "cell_type": "code",
      "metadata": {
        "id": "AZ0MdzfOVckx",
        "colab_type": "code",
        "outputId": "38b125fd-8a9c-4ba4-96d5-32cb05ee872f",
        "colab": {
          "base_uri": "https://localhost:8080/",
          "height": 85
        }
      },
      "source": [
        "print((data.groupby('CATEGORY*')).size())\n",
        "\n",
        "# to count how many different of category of travelling\n",
        "#print(data['CATEGORY**'].value_counts('').count())"
      ],
      "execution_count": 0,
      "outputs": [
        {
          "output_type": "stream",
          "text": [
            "CATEGORY*\n",
            "Business    1078\n",
            "Personal      77\n",
            "dtype: int64\n"
          ],
          "name": "stdout"
        }
      ]
    },
    {
      "cell_type": "code",
      "metadata": {
        "id": "gYvBPIzEVceP",
        "colab_type": "code",
        "outputId": "69e8c07b-009e-4f3c-9b62-17ef6ae693c5",
        "colab": {
          "base_uri": "https://localhost:8080/",
          "height": 221
        }
      },
      "source": [
        "print((data.groupby('PURPOSE*')).size())\n",
        "\n",
        "# to count how many different of purposes of travelling\n",
        "#print(data['PURPOSE*'].value_counts('').count())"
      ],
      "execution_count": 0,
      "outputs": [
        {
          "output_type": "stream",
          "text": [
            "PURPOSE*\n",
            "Airport/Travel       3\n",
            "Between Offices     18\n",
            "Charity ($)          1\n",
            "Commute              1\n",
            "Customer Visit     101\n",
            "Errand/Supplies    128\n",
            "Meal/Entertain     160\n",
            "Meeting            187\n",
            "Moving               4\n",
            "Temporary Site      50\n",
            "dtype: int64\n"
          ],
          "name": "stdout"
        }
      ]
    },
    {
      "cell_type": "markdown",
      "metadata": {
        "id": "pzD1fP8vUmgu",
        "colab_type": "text"
      },
      "source": [
        "**DATA CLEANING and EXPLORATION**"
      ]
    },
    {
      "cell_type": "markdown",
      "metadata": {
        "id": "BD3v3dctV7nj",
        "colab_type": "text"
      },
      "source": [
        "missing (null) value, 507 from the dataset. seems like the purpose of destination is the most that've got the most missing value."
      ]
    },
    {
      "cell_type": "code",
      "metadata": {
        "id": "nA2DfjAaV1cr",
        "colab_type": "code",
        "outputId": "4fed32e7-827f-48a4-acf1-c20fb9b2c091",
        "colab": {
          "base_uri": "https://localhost:8080/",
          "height": 34
        }
      },
      "source": [
        "#checking null values from the dataset\n",
        "print(data.isnull().values.sum())"
      ],
      "execution_count": 0,
      "outputs": [
        {
          "output_type": "stream",
          "text": [
            "507\n"
          ],
          "name": "stdout"
        }
      ]
    },
    {
      "cell_type": "code",
      "metadata": {
        "id": "HGC0aLpIWA-7",
        "colab_type": "code",
        "outputId": "703e83b1-2fd3-45dd-afd8-9bd875b90678",
        "colab": {
          "base_uri": "https://localhost:8080/",
          "height": 153
        }
      },
      "source": [
        "#checking null values by columns\n",
        "print(data.isnull().sum())"
      ],
      "execution_count": 0,
      "outputs": [
        {
          "output_type": "stream",
          "text": [
            "START_DATE*      0\n",
            "END_DATE*        1\n",
            "CATEGORY*        1\n",
            "START*           1\n",
            "STOP*            1\n",
            "MILES*           0\n",
            "PURPOSE*       503\n",
            "dtype: int64\n"
          ],
          "name": "stdout"
        }
      ]
    },
    {
      "cell_type": "code",
      "metadata": {
        "id": "Rm8Nl-y5WU2q",
        "colab_type": "code",
        "outputId": "47173d92-9fe1-4241-b79b-00a62d0bda06",
        "colab": {
          "base_uri": "https://localhost:8080/",
          "height": 51
        }
      },
      "source": [
        "#503 missing values from the PURPOSE* attribute\n",
        "print(data['PURPOSE*'].isnull().value_counts())"
      ],
      "execution_count": 0,
      "outputs": [
        {
          "output_type": "stream",
          "text": [
            "False    1156\n",
            "Name: PURPOSE*, dtype: int64\n"
          ],
          "name": "stdout"
        }
      ]
    },
    {
      "cell_type": "code",
      "metadata": {
        "id": "6d6BPol2VAhg",
        "colab_type": "code",
        "colab": {}
      },
      "source": [
        "#replacing missing values with \"Unknown Purpose\"\n",
        "data[\"PURPOSE*\"].fillna(\"Unknown Purpose\", inplace = True)"
      ],
      "execution_count": 0,
      "outputs": []
    },
    {
      "cell_type": "code",
      "metadata": {
        "id": "DL1qErKOW1qB",
        "colab_type": "code",
        "outputId": "fa467d13-e512-42fd-904c-ee8a04b69764",
        "colab": {
          "base_uri": "https://localhost:8080/",
          "height": 221
        }
      },
      "source": [
        "#recheck\n",
        "print(data['PURPOSE*'].value_counts())"
      ],
      "execution_count": 0,
      "outputs": [
        {
          "output_type": "stream",
          "text": [
            "Unknown Purpose    503\n",
            "Meeting            187\n",
            "Meal/Entertain     160\n",
            "Errand/Supplies    128\n",
            "Customer Visit     101\n",
            "Temporary Site      50\n",
            "Between Offices     18\n",
            "Moving               4\n",
            "Airport/Travel       3\n",
            "Commute              1\n",
            "Charity ($)          1\n",
            "Name: PURPOSE*, dtype: int64\n"
          ],
          "name": "stdout"
        }
      ]
    },
    {
      "cell_type": "code",
      "metadata": {
        "id": "QC9_rJi_U920",
        "colab_type": "code",
        "colab": {}
      },
      "source": [
        "#remove the last row of the dataset (since there is no value there except the total number of MILES*)\n",
        "data.drop(data.tail(1).index, inplace=True)"
      ],
      "execution_count": 0,
      "outputs": []
    },
    {
      "cell_type": "code",
      "metadata": {
        "id": "FsiwJlidXURQ",
        "colab_type": "code",
        "outputId": "afcf1b1b-2c4c-4842-c15b-fba02ad8b238",
        "colab": {
          "base_uri": "https://localhost:8080/",
          "height": 221
        }
      },
      "source": [
        "#recheck all attributes have the same number of rows with unique values (no duplicate).\n",
        "data.info()"
      ],
      "execution_count": 0,
      "outputs": [
        {
          "output_type": "stream",
          "text": [
            "<class 'pandas.core.frame.DataFrame'>\n",
            "Int64Index: 1155 entries, 0 to 1154\n",
            "Data columns (total 7 columns):\n",
            "START_DATE*    1155 non-null object\n",
            "END_DATE*      1155 non-null object\n",
            "CATEGORY*      1155 non-null object\n",
            "START*         1155 non-null object\n",
            "STOP*          1155 non-null object\n",
            "MILES*         1155 non-null float64\n",
            "PURPOSE*       1155 non-null object\n",
            "dtypes: float64(1), object(6)\n",
            "memory usage: 72.2+ KB\n"
          ],
          "name": "stdout"
        }
      ]
    },
    {
      "cell_type": "code",
      "metadata": {
        "id": "Hw7UtokcXpT2",
        "colab_type": "code",
        "outputId": "39e4eb73-dce2-48ce-b91e-c2a138ce1d2f",
        "colab": {
          "base_uri": "https://localhost:8080/",
          "height": 1000
        }
      },
      "source": [
        "#to check if there're duplicate rows\n",
        "#if its true, yes\n",
        "#all row showing false => there is no duplication in term of the order number of row. \n",
        "data.duplicated(subset=None, keep='first')"
      ],
      "execution_count": 0,
      "outputs": [
        {
          "output_type": "execute_result",
          "data": {
            "text/plain": [
              "0       False\n",
              "1       False\n",
              "2       False\n",
              "3       False\n",
              "4       False\n",
              "5       False\n",
              "6       False\n",
              "7       False\n",
              "8       False\n",
              "9       False\n",
              "10      False\n",
              "11      False\n",
              "12      False\n",
              "13      False\n",
              "14      False\n",
              "15      False\n",
              "16      False\n",
              "17      False\n",
              "18      False\n",
              "19      False\n",
              "20      False\n",
              "21      False\n",
              "22      False\n",
              "23      False\n",
              "24      False\n",
              "25      False\n",
              "26      False\n",
              "27      False\n",
              "28      False\n",
              "29      False\n",
              "        ...  \n",
              "1125    False\n",
              "1126    False\n",
              "1127    False\n",
              "1128    False\n",
              "1129    False\n",
              "1130    False\n",
              "1131    False\n",
              "1132    False\n",
              "1133    False\n",
              "1134    False\n",
              "1135    False\n",
              "1136    False\n",
              "1137    False\n",
              "1138    False\n",
              "1139    False\n",
              "1140    False\n",
              "1141    False\n",
              "1142    False\n",
              "1143    False\n",
              "1144    False\n",
              "1145    False\n",
              "1146    False\n",
              "1147    False\n",
              "1148    False\n",
              "1149    False\n",
              "1150    False\n",
              "1151    False\n",
              "1152    False\n",
              "1153    False\n",
              "1154    False\n",
              "Length: 1155, dtype: bool"
            ]
          },
          "metadata": {
            "tags": []
          },
          "execution_count": 25
        }
      ]
    },
    {
      "cell_type": "code",
      "metadata": {
        "id": "pg6nXaFlUlwQ",
        "colab_type": "code",
        "outputId": "d9ddf83d-63c0-4b82-d138-a70edc7bf2cf",
        "colab": {
          "base_uri": "https://localhost:8080/",
          "height": 221
        }
      },
      "source": [
        "#from datetime import datetime\n",
        "# convert the 'Date' column to datetime format \n",
        "data['START_DATE*']= pd.to_datetime(data['START_DATE*'], dayfirst=True, errors='coerce') \n",
        "data['END_DATE*']= pd.to_datetime(data['END_DATE*'], dayfirst=True, errors='coerce')   \n",
        "# Check the format of 'Date' column \n",
        "data.info() "
      ],
      "execution_count": 0,
      "outputs": [
        {
          "output_type": "stream",
          "text": [
            "<class 'pandas.core.frame.DataFrame'>\n",
            "Int64Index: 1155 entries, 0 to 1154\n",
            "Data columns (total 7 columns):\n",
            "START_DATE*    1155 non-null datetime64[ns]\n",
            "END_DATE*      1155 non-null datetime64[ns]\n",
            "CATEGORY*      1155 non-null object\n",
            "START*         1155 non-null object\n",
            "STOP*          1155 non-null object\n",
            "MILES*         1155 non-null float64\n",
            "PURPOSE*       1155 non-null object\n",
            "dtypes: datetime64[ns](2), float64(1), object(4)\n",
            "memory usage: 72.2+ KB\n"
          ],
          "name": "stdout"
        }
      ]
    },
    {
      "cell_type": "markdown",
      "metadata": {
        "id": "zfcR4p1ua1ox",
        "colab_type": "text"
      },
      "source": [
        "**Visualising the DATA**"
      ]
    },
    {
      "cell_type": "code",
      "metadata": {
        "id": "BWQSmaSda7VM",
        "colab_type": "code",
        "outputId": "cb5d74ab-f448-425e-ac20-7579c07e6043",
        "colab": {
          "base_uri": "https://localhost:8080/",
          "height": 493
        }
      },
      "source": [
        "#to checking the correlation between MILES* and PURPOSE* attributes\n",
        "#one of the interesting data point is:\n",
        "#purpose \"commute\" has got the highest distance of travelling (approx more than 300 miles)\n",
        "data.boxplot('MILES*', 'PURPOSE*', rot = 40, figsize = (5,6))"
      ],
      "execution_count": 0,
      "outputs": [
        {
          "output_type": "execute_result",
          "data": {
            "text/plain": [
              "<matplotlib.axes._subplots.AxesSubplot at 0x7fef863919b0>"
            ]
          },
          "metadata": {
            "tags": []
          },
          "execution_count": 28
        },
        {
          "output_type": "display_data",
          "data": {
            "image/png": "[encoded data removed]",
            "text/plain": [
              "<Figure size 360x432 with 1 Axes>"
            ]
          },
          "metadata": {
            "tags": []
          }
        }
      ]
    },
    {
      "cell_type": "code",
      "metadata": {
        "id": "JAhf4vnJbye6",
        "colab_type": "code",
        "outputId": "9c836f40-7ed6-4833-ca2e-5a63d7dad280",
        "colab": {
          "base_uri": "https://localhost:8080/",
          "height": 301
        }
      },
      "source": [
        "#category represents sa a bar chart\n",
        "%matplotlib inline\n",
        "import seaborn as sns\n",
        "import matplotlib.pyplot as plt\n",
        "category_count = data['CATEGORY*'].value_counts()\n",
        "sns.set(style = \"darkgrid\")\n",
        "sns.barplot(category_count.index, category_count.values, alpha = 0.9)\n",
        "plt.title('Frequency Distribution of Category')\n",
        "plt.ylabel('Number of Occurrences', fontsize = 12)\n",
        "plt.xlabel('Categories', fontsize = 12)\n",
        "plt.show()"
      ],
      "execution_count": 0,
      "outputs": [
        {
          "output_type": "display_data",
          "data": {
            "image/png": "[encoded data removed]",
            "text/plain": [
              "<Figure size 432x288 with 1 Axes>"
            ]
          },
          "metadata": {
            "tags": []
          }
        }
      ]
    },
    {
      "cell_type": "code",
      "metadata": {
        "id": "CJ5B26sif6Hu",
        "colab_type": "code",
        "outputId": "4a3509c8-f29e-4011-d4dc-2a24c85a35ea",
        "colab": {
          "base_uri": "https://localhost:8080/",
          "height": 260
        }
      },
      "source": [
        "#purpose represents as a pie chart\n",
        "labels = data['PURPOSE*'].astype('category').cat.categories.tolist()\n",
        "counts = data['PURPOSE*'].value_counts()\n",
        "sizes = [counts[var_cat] for var_cat in labels]\n",
        "fig1, ax1 = plt.subplots()\n",
        "ax1.pie(sizes, labels=labels, autopct='%1.1f%%', shadow=False) #autopct is show the % on plot\n",
        "ax1.axis('equal')\n",
        "plt.show()"
      ],
      "execution_count": 0,
      "outputs": [
        {
          "output_type": "display_data",
          "data": {
            "image/png": "[encoded data removed]",
            "text/plain": [
              "<Figure size 432x288 with 1 Axes>"
            ]
          },
          "metadata": {
            "tags": []
          }
        }
      ]
    }
  ]
}